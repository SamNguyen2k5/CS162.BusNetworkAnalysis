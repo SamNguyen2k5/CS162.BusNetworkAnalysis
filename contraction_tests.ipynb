{
 "cells": [
  {
   "cell_type": "code",
   "execution_count": 1,
   "metadata": {},
   "outputs": [
    {
     "name": "stdout",
     "output_type": "stream",
     "text": [
      "unavailable until proj_trans is called\n"
     ]
    }
   ],
   "source": [
    "import random, math, copy\n",
    "\n",
    "import pandas as pd\n",
    "import plotly.express as px\n",
    "from tqdm import tqdm\n",
    "\n",
    "from network import Network\n",
    "from network.network import NetworkConnector\n",
    "from network.shortest_paths import NetworkBidirectionalDijkstra, NetworkContractionHierarchies"
   ]
  },
  {
   "cell_type": "code",
   "execution_count": 2,
   "metadata": {},
   "outputs": [],
   "source": [
    "class NetworkWeightedConnector(NetworkConnector):\n",
    "    _weight:    float\n",
    "    def __init__(self, src: int, dest: int, weight: float):\n",
    "        self._weight = weight\n",
    "        super().__init__(src, dest)\n",
    "\n",
    "    def __repr__(self):\n",
    "        return 'NetworkWeightedConnector(src={}, dest={}, weight={})'.format(self.src, self.dest, self.weight)\n",
    "\n",
    "    @property\n",
    "    def weight(self) -> float:\n",
    "        return self._weight"
   ]
  },
  {
   "cell_type": "code",
   "execution_count": 3,
   "metadata": {},
   "outputs": [],
   "source": [
    "net = Network(\n",
    "    nodes = {x: chr(65 + x) for x in range(6)},\n",
    "    adjs = {\n",
    "        0: [\n",
    "            NetworkWeightedConnector(0, 1, 3),\n",
    "            NetworkWeightedConnector(0, 2, 9)\n",
    "        ],\n",
    "        1: [\n",
    "            NetworkWeightedConnector(1, 0, 3),\n",
    "            NetworkWeightedConnector(1, 3, 5)\n",
    "        ],\n",
    "        2: [\n",
    "            NetworkWeightedConnector(2, 0, 5),\n",
    "            NetworkWeightedConnector(2, 3, 2)\n",
    "        ],\n",
    "        3: [\n",
    "            NetworkWeightedConnector(3, 2, 2),\n",
    "            NetworkWeightedConnector(3, 4, 7)\n",
    "        ],\n",
    "        4: [\n",
    "            NetworkWeightedConnector(4, 0, 1),\n",
    "            NetworkWeightedConnector(4, 5, 1)\n",
    "        ],\n",
    "        5: [\n",
    "            NetworkWeightedConnector(5, 0, 4),\n",
    "            NetworkWeightedConnector(5, 2, 3)\n",
    "        ]\n",
    "    }\n",
    ")"
   ]
  },
  {
   "cell_type": "code",
   "execution_count": 4,
   "metadata": {},
   "outputs": [
    {
     "name": "stdout",
     "output_type": "stream",
     "text": [
      "10\n",
      "NetworkWeightedConnector(src=3, dest=2, weight=2)\n",
      "NetworkWeightedConnector(src=2, dest=0, weight=5)\n",
      "NetworkWeightedConnector(src=0, dest=1, weight=3)\n"
     ]
    }
   ],
   "source": [
    "dijkstra = NetworkBidirectionalDijkstra()\n",
    "dijkstra.from_net(net)\n",
    "\n",
    "dist, connectors = dijkstra.path(3, 1)\n",
    "print(dist)\n",
    "for connector in connectors:\n",
    "    print(connector)"
   ]
  },
  {
   "cell_type": "code",
   "execution_count": 5,
   "metadata": {},
   "outputs": [
    {
     "name": "stderr",
     "output_type": "stream",
     "text": [
      "100%|██████████| 6/6 [00:00<00:00, 3003.80it/s]\n"
     ]
    },
    {
     "name": "stdout",
     "output_type": "stream",
     "text": [
      "0 17\n"
     ]
    },
    {
     "name": "stderr",
     "output_type": "stream",
     "text": [
      "0it [00:00, ?it/s]\n"
     ]
    }
   ],
   "source": [
    "ch = NetworkContractionHierarchies().from_net(net)"
   ]
  },
  {
   "cell_type": "code",
   "execution_count": 12,
   "metadata": {},
   "outputs": [
    {
     "data": {
      "text/plain": [
       "6"
      ]
     },
     "execution_count": 12,
     "metadata": {},
     "output_type": "execute_result"
    }
   ],
   "source": [
    "sum(ch._overlay_net.degrees())"
   ]
  },
  {
   "cell_type": "code",
   "execution_count": 6,
   "metadata": {},
   "outputs": [
    {
     "data": {
      "text/plain": [
       "{0: [NetworkWeightedConnector(src=0, dest=1, weight=3),\n",
       "  NetworkWeightedConnector(src=0, dest=2, weight=9)],\n",
       " 1: [NetworkWeightedConnector(src=1, dest=3, weight=5)],\n",
       " 2: [NetworkWeightedConnector(src=2, dest=3, weight=2),\n",
       "  NetworkConnectorTreeNode(src=2, dest=1, weight=8)],\n",
       " 3: [],\n",
       " 4: [NetworkWeightedConnector(src=4, dest=5, weight=1)],\n",
       " 5: [NetworkConnectorTreeNode(src=5, dest=3, weight=5)]}"
      ]
     },
     "execution_count": 6,
     "metadata": {},
     "output_type": "execute_result"
    }
   ],
   "source": [
    "ch._adjs_fwd"
   ]
  },
  {
   "cell_type": "code",
   "execution_count": 7,
   "metadata": {},
   "outputs": [
    {
     "data": {
      "text/plain": [
       "{0: [NetworkWeightedConnector(src=1, dest=0, weight=3),\n",
       "  NetworkWeightedConnector(src=2, dest=0, weight=5),\n",
       "  NetworkWeightedConnector(src=4, dest=0, weight=1),\n",
       "  NetworkWeightedConnector(src=5, dest=0, weight=4)],\n",
       " 1: [NetworkConnectorTreeNode(src=4, dest=1, weight=4),\n",
       "  NetworkConnectorTreeNode(src=5, dest=1, weight=7),\n",
       "  NetworkConnectorTreeNode(src=3, dest=1, weight=10)],\n",
       " 2: [NetworkWeightedConnector(src=3, dest=2, weight=2),\n",
       "  NetworkWeightedConnector(src=5, dest=2, weight=3)],\n",
       " 3: [],\n",
       " 4: [NetworkWeightedConnector(src=3, dest=4, weight=7)],\n",
       " 5: [NetworkConnectorTreeNode(src=3, dest=5, weight=8)]}"
      ]
     },
     "execution_count": 7,
     "metadata": {},
     "output_type": "execute_result"
    }
   ],
   "source": [
    "ch._adjs_bkd"
   ]
  },
  {
   "cell_type": "code",
   "execution_count": 8,
   "metadata": {},
   "outputs": [
    {
     "data": {
      "text/plain": [
       "(10, [NetworkConnectorTreeNode(src=3, dest=1, weight=10)])"
      ]
     },
     "execution_count": 8,
     "metadata": {},
     "output_type": "execute_result"
    }
   ],
   "source": [
    "ch.path(3, 1)"
   ]
  },
  {
   "cell_type": "code",
   "execution_count": 9,
   "metadata": {},
   "outputs": [
    {
     "data": {
      "text/plain": [
       "{4: [NetworkConnectorTreeNode(src=4, dest=1, weight=4)],\n",
       " 5: [NetworkConnectorTreeNode(src=5, dest=1, weight=7),\n",
       "  NetworkConnectorTreeNode(src=5, dest=3, weight=5),\n",
       "  NetworkConnectorTreeNode(src=5, dest=4, weight=12)],\n",
       " 2: [NetworkConnectorTreeNode(src=2, dest=1, weight=8)]}"
      ]
     },
     "execution_count": 9,
     "metadata": {},
     "output_type": "execute_result"
    }
   ],
   "source": [
    "ch._overlay_net.adjs"
   ]
  }
 ],
 "metadata": {
  "kernelspec": {
   "display_name": "Python 3",
   "language": "python",
   "name": "python3"
  },
  "language_info": {
   "codemirror_mode": {
    "name": "ipython",
    "version": 3
   },
   "file_extension": ".py",
   "mimetype": "text/x-python",
   "name": "python",
   "nbconvert_exporter": "python",
   "pygments_lexer": "ipython3",
   "version": "3.11.0"
  }
 },
 "nbformat": 4,
 "nbformat_minor": 2
}
